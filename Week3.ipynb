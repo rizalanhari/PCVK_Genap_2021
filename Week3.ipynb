{
  "nbformat": 4,
  "nbformat_minor": 0,
  "metadata": {
    "colab": {
      "name": "Week3.ipynb",
      "provenance": [],
      "authorship_tag": "ABX9TyOabJ+ox6+P/UBizHi7qm9A",
      "include_colab_link": true
    },
    "kernelspec": {
      "name": "python3",
      "display_name": "Python 3"
    }
  },
  "cells": [
    {
      "cell_type": "markdown",
      "metadata": {
        "id": "view-in-github",
        "colab_type": "text"
      },
      "source": [
        "<a href=\"https://colab.research.google.com/github/rizalanhari/PCVK_Genap_2021/blob/main/Week3.ipynb\" target=\"_parent\"><img src=\"https://colab.research.google.com/assets/colab-badge.svg\" alt=\"Open In Colab\"/></a>"
      ]
    },
    {
      "cell_type": "code",
      "metadata": {
        "colab": {
          "base_uri": "https://localhost:8080/"
        },
        "id": "PQoaF8deRM4E",
        "outputId": "9c8d338f-3631-4bb4-8f5e-3ce3aa09e646"
      },
      "source": [
        "from google.colab import drive\r\n",
        "import cv2 as cv\r\n",
        "from google.colab.patches import cv2_imshow\r\n",
        "from skimage import io\r\n",
        "import matplotlib.pyplot as plt\r\n",
        "import numpy as np\r\n",
        "drive.mount('/content/drive')"
      ],
      "execution_count": 3,
      "outputs": [
        {
          "output_type": "stream",
          "text": [
            "Drive already mounted at /content/drive; to attempt to forcibly remount, call drive.mount(\"/content/drive\", force_remount=True).\n"
          ],
          "name": "stdout"
        }
      ]
    },
    {
      "cell_type": "code",
      "metadata": {
        "id": "HeFM55XvW4KV"
      },
      "source": [
        "print('Mengubah tingkat kecerahan citra')\r\n",
        "print('--------------------------------')\r\n",
        "try:\r\n",
        "  brightness = int(input('Masukan nilai kecerahan: '))\r\n",
        "except ValueError:\r\n",
        "  print('Error')\r\n",
        "\r\n",
        "original = cv.imread('/content/drive/MyDrive/female.tiff')\r\n",
        "brightness_image = np.zeros(original.shape, original.dtype)\r\n",
        "\r\n",
        "for y in range(original.shape[0]):\r\n",
        "  for x in range(original.shape[1]):\r\n",
        "    for c in range(original.shape[2]):\r\n",
        "      brightness_image[y,x,c] = np.clip(original[y,x,c]+ brightness,0,255)\r\n",
        "\r\n",
        "final_frame = cv.hconcat((original,brightness_image))\r\n",
        "cv2_imshow(final_frame)"
      ],
      "execution_count": null,
      "outputs": []
    }
  ]
}